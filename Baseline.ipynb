{
  "nbformat": 4,
  "nbformat_minor": 0,
  "metadata": {
    "colab": {
      "provenance": [],
      "include_colab_link": true
    },
    "kernelspec": {
      "name": "python3",
      "display_name": "Python 3"
    },
    "language_info": {
      "name": "python"
    }
  },
  "cells": [
    {
      "cell_type": "markdown",
      "metadata": {
        "id": "view-in-github",
        "colab_type": "text"
      },
      "source": [
        "<a href=\"https://colab.research.google.com/github/Tbot101/CIS-5190-Project/blob/main/Baseline.ipynb\" target=\"_parent\"><img src=\"https://colab.research.google.com/assets/colab-badge.svg\" alt=\"Open In Colab\"/></a>"
      ]
    },
    {
      "cell_type": "code",
      "source": [
        "from google.colab import drive\n",
        "drive.mount('/content/drive')"
      ],
      "metadata": {
        "id": "T9n9jAasn9ji",
        "outputId": "8d13b7c4-1677-4ffa-c9d6-63e5cc31ea22",
        "colab": {
          "base_uri": "https://localhost:8080/"
        }
      },
      "execution_count": null,
      "outputs": [
        {
          "output_type": "stream",
          "name": "stdout",
          "text": [
            "Mounted at /content/drive\n"
          ]
        }
      ]
    },
    {
      "cell_type": "code",
      "source": [
        "%cd /content/drive/Shareddrives/CIS\\ 519\\ Final\\ Project"
      ],
      "metadata": {
        "id": "l92G2k-Oomhs",
        "colab": {
          "base_uri": "https://localhost:8080/"
        },
        "outputId": "38f21649-5b6a-43dd-8a18-3a1446a0c1c8"
      },
      "execution_count": null,
      "outputs": [
        {
          "output_type": "stream",
          "name": "stdout",
          "text": [
            "/content/drive/Shareddrives/CIS 519 Final Project\n"
          ]
        }
      ]
    },
    {
      "cell_type": "code",
      "source": [
        "%ls\n",
        "# 'Reviews.csv' should be listed here"
      ],
      "metadata": {
        "colab": {
          "base_uri": "https://localhost:8080/"
        },
        "id": "6lYCwZ0Go1Pd",
        "outputId": "a6bffd43-53f8-4f04-f9e4-c2c92817d69d"
      },
      "execution_count": null,
      "outputs": [
        {
          "output_type": "stream",
          "name": "stdout",
          "text": [
            "'CIS 519 Project.ipynb'       'Project Milestone 2.gdoc'\n",
            " cleaned_reviews.csv          'Project Milestone 3.docx'\n",
            " fine-tuned-bert               \u001b[0m\u001b[01;34mres\u001b[0m/\n",
            " James_CIS_519_Project.ipynb   Reviews.csv\n",
            " \u001b[01;34mlogs4\u001b[0m/                       'Taha CIS 519 Project'\n",
            "'Project 1 Milestone.gdoc'    'Time-Shift CIS 519 Project'\n"
          ]
        }
      ]
    },
    {
      "cell_type": "code",
      "source": [
        "import pandas as pd\n",
        "import random\n",
        "import re\n",
        "import nltk\n",
        "from nltk.tokenize import word_tokenize\n",
        "from nltk.corpus import stopwords\n",
        "from nltk.stem import WordNetLemmatizer\n",
        "nltk.download('stopwords')\n",
        "nltk.download('punkt')\n",
        "nltk.download('wordnet')\n",
        "\n",
        "random.seed(42)\n"
      ],
      "metadata": {
        "id": "A9pUNAvYo-5s",
        "colab": {
          "base_uri": "https://localhost:8080/"
        },
        "outputId": "0a9e5ee4-4f1c-48f6-ab9b-f9bedaaccd08"
      },
      "execution_count": null,
      "outputs": [
        {
          "output_type": "stream",
          "name": "stderr",
          "text": [
            "[nltk_data] Downloading package stopwords to /root/nltk_data...\n",
            "[nltk_data]   Unzipping corpora/stopwords.zip.\n",
            "[nltk_data] Downloading package punkt to /root/nltk_data...\n",
            "[nltk_data]   Unzipping tokenizers/punkt.zip.\n",
            "[nltk_data] Downloading package wordnet to /root/nltk_data...\n"
          ]
        }
      ]
    },
    {
      "cell_type": "code",
      "source": [
        "USE_CLEANED = True"
      ],
      "metadata": {
        "id": "nOW6LZuOIBsr"
      },
      "execution_count": null,
      "outputs": []
    },
    {
      "cell_type": "code",
      "source": [
        "# we need to use these parameters to read in some funky text\n",
        "if USE_CLEANED:\n",
        "  df = pd.read_csv('cleaned_reviews.csv', engine='python', on_bad_lines='skip')\n",
        "else:\n",
        "  df = pd.read_csv('Reviews.csv', engine='python', on_bad_lines='skip')\n",
        "  df['sentiment'] = df.apply(lambda x: 1 if x['Score'] > 3 else 0, axis=1)\n",
        "  df = df.sample(frac=0.2).reset_index(drop=True)\n",
        "  def preprocess_text(text):\n",
        "    text = text.lower()\n",
        "    text = re.sub(r'[^\\w\\s]', ' ', text)\n",
        "    stop_words = set(stopwords.words('english'))\n",
        "    tokens = word_tokenize(text)\n",
        "    lemma = WordNetLemmatizer()\n",
        "    result = [i for i in tokens if not i in stop_words]\n",
        "    lemmatized_result = []\n",
        "    for word in result:\n",
        "      lemmatized_result.append(lemma.lemmatize(word))\n",
        "\n",
        "    return \" \".join(lemmatized_result)\n",
        "  df['cleaned_text'] = df.apply(lambda x: preprocess_text(x['Text']), axis=1)"
      ],
      "metadata": {
        "id": "7TYQn2-Ho_sG"
      },
      "execution_count": null,
      "outputs": []
    },
    {
      "cell_type": "code",
      "source": [
        "df = df.dropna()"
      ],
      "metadata": {
        "id": "V3A4gSrNpB24"
      },
      "execution_count": null,
      "outputs": []
    },
    {
      "cell_type": "code",
      "source": [
        "df"
      ],
      "metadata": {
        "colab": {
          "base_uri": "https://localhost:8080/",
          "height": 1000
        },
        "id": "5ldLg7Q7I82F",
        "outputId": "7ca5b7d7-e78c-42cb-abd5-84bd40225302"
      },
      "execution_count": null,
      "outputs": [
        {
          "output_type": "execute_result",
          "data": {
            "text/plain": [
              "        Unnamed: 0      Id   ProductId          UserId  \\\n",
              "0                0  119814  B0009YUEG2  A2F09EWKV3MTO2   \n",
              "1                1  290509  B004777F3M  A2PDNBEIQYRCT2   \n",
              "2                2  489194  B002N2R7WM  A1CHGDG3NUDA5R   \n",
              "3                3   65205  B001D0GV5O  A3GIKK6DQEKEQK   \n",
              "4                4  526585  B007PA30TG  A2XQSJG8YR6ED2   \n",
              "...            ...     ...         ...             ...   \n",
              "113686      113686   16241  B007TJGZ54  A1PLASEQUSPDPM   \n",
              "113687      113687  511398  B001E6J07I  A233H2J16V56W8   \n",
              "113688      113688  211139  B000X67P2C  A3G0H0GKJ0722I   \n",
              "113689      113689  520860  B0009XSXZM  A3FTHCRY3EZNA7   \n",
              "113690      113690  190700  B000FI4O90  A2XNFT83MTV6AN   \n",
              "\n",
              "                           ProfileName  HelpfulnessNumerator  \\\n",
              "0                          StillWaters                     4   \n",
              "1                               lmac60                     0   \n",
              "2       C. Seggelin \"Plastered Dragon\"                     0   \n",
              "3                  CHERYL A. CATANZANO                     0   \n",
              "4                           Cecilia f.                     0   \n",
              "...                                ...                   ...   \n",
              "113686                           Chris                     0   \n",
              "113687                     Claxon,Bill                     0   \n",
              "113688                        C. Smith                    10   \n",
              "113689                       categ3893                     1   \n",
              "113690               Randy Corder \"RC\"                     0   \n",
              "\n",
              "        HelpfulnessDenominator  Score        Time  \\\n",
              "0                            4      5  1303430400   \n",
              "1                            0      4  1309996800   \n",
              "2                            0      1  1350086400   \n",
              "3                            0      1  1296777600   \n",
              "4                            0      5  1303084800   \n",
              "...                        ...    ...         ...   \n",
              "113686                       0      5  1339718400   \n",
              "113687                       0      5  1237507200   \n",
              "113688                      13      1  1277164800   \n",
              "113689                       1      5  1333843200   \n",
              "113690                       0      4  1231286400   \n",
              "\n",
              "                                                  Summary  \\\n",
              "0                          This is all I ever use anymore   \n",
              "1                                               Good Tea!   \n",
              "2       Tasteless Fat For Your Popcorn!  Just Use Butter.   \n",
              "3                                              Very bland   \n",
              "4                                              great brew   \n",
              "...                                                   ...   \n",
              "113686                                     Price is Right   \n",
              "113687                                Tasty Carrs cracker   \n",
              "113688                                    Did not like...   \n",
              "113689              8 month Golden Retriever is OBSESSED.   \n",
              "113690                                         Aerogarden   \n",
              "\n",
              "                                                     Text  sentiment  \\\n",
              "0       I love this litter because...<br />1. It compl...          1   \n",
              "1       Great flavor.  Just enough spice.  A love Chai...          1   \n",
              "2       Y'know, you'd think with the words \"Buttery Fl...          0   \n",
              "3       I bought this tea because I like Timothy's Cof...          0   \n",
              "4       i've been using these k-cups for months now.  ...          1   \n",
              "...                                                   ...        ...   \n",
              "113686  Love the Green Mountain Coffee; tastes great i...          1   \n",
              "113687  A super glamourized cheez-it without the trans...          1   \n",
              "113688  I had heard so many good things about using th...          0   \n",
              "113689  My adolescent golden retriever just loves thes...          1   \n",
              "113690  Great product so far. The seeds are germinatin...          1   \n",
              "\n",
              "                                             cleaned_text  \n",
              "0       love litter br 1 completely eliminates urine o...  \n",
              "1       great flavor enough spice love chai tea latte ...  \n",
              "2       know think word buttery flavor product name pr...  \n",
              "3       bought tea like timothy coffee product figured...  \n",
              "4       using k cup month breakfast blend perfect peop...  \n",
              "...                                                   ...  \n",
              "113686  love green mountain coffee taste great keurig ...  \n",
              "113687  super glamourized cheez without trans fat chol...  \n",
              "113688  heard many good thing using place wheat white ...  \n",
              "113689  adolescent golden retriever love soon see hold...  \n",
              "113690  great product far seed germinating promised ea...  \n",
              "\n",
              "[113678 rows x 13 columns]"
            ],
            "text/html": [
              "\n",
              "  <div id=\"df-c0709e75-ec0a-4422-a4d6-f229f8f488aa\">\n",
              "    <div class=\"colab-df-container\">\n",
              "      <div>\n",
              "<style scoped>\n",
              "    .dataframe tbody tr th:only-of-type {\n",
              "        vertical-align: middle;\n",
              "    }\n",
              "\n",
              "    .dataframe tbody tr th {\n",
              "        vertical-align: top;\n",
              "    }\n",
              "\n",
              "    .dataframe thead th {\n",
              "        text-align: right;\n",
              "    }\n",
              "</style>\n",
              "<table border=\"1\" class=\"dataframe\">\n",
              "  <thead>\n",
              "    <tr style=\"text-align: right;\">\n",
              "      <th></th>\n",
              "      <th>Unnamed: 0</th>\n",
              "      <th>Id</th>\n",
              "      <th>ProductId</th>\n",
              "      <th>UserId</th>\n",
              "      <th>ProfileName</th>\n",
              "      <th>HelpfulnessNumerator</th>\n",
              "      <th>HelpfulnessDenominator</th>\n",
              "      <th>Score</th>\n",
              "      <th>Time</th>\n",
              "      <th>Summary</th>\n",
              "      <th>Text</th>\n",
              "      <th>sentiment</th>\n",
              "      <th>cleaned_text</th>\n",
              "    </tr>\n",
              "  </thead>\n",
              "  <tbody>\n",
              "    <tr>\n",
              "      <th>0</th>\n",
              "      <td>0</td>\n",
              "      <td>119814</td>\n",
              "      <td>B0009YUEG2</td>\n",
              "      <td>A2F09EWKV3MTO2</td>\n",
              "      <td>StillWaters</td>\n",
              "      <td>4</td>\n",
              "      <td>4</td>\n",
              "      <td>5</td>\n",
              "      <td>1303430400</td>\n",
              "      <td>This is all I ever use anymore</td>\n",
              "      <td>I love this litter because...&lt;br /&gt;1. It compl...</td>\n",
              "      <td>1</td>\n",
              "      <td>love litter br 1 completely eliminates urine o...</td>\n",
              "    </tr>\n",
              "    <tr>\n",
              "      <th>1</th>\n",
              "      <td>1</td>\n",
              "      <td>290509</td>\n",
              "      <td>B004777F3M</td>\n",
              "      <td>A2PDNBEIQYRCT2</td>\n",
              "      <td>lmac60</td>\n",
              "      <td>0</td>\n",
              "      <td>0</td>\n",
              "      <td>4</td>\n",
              "      <td>1309996800</td>\n",
              "      <td>Good Tea!</td>\n",
              "      <td>Great flavor.  Just enough spice.  A love Chai...</td>\n",
              "      <td>1</td>\n",
              "      <td>great flavor enough spice love chai tea latte ...</td>\n",
              "    </tr>\n",
              "    <tr>\n",
              "      <th>2</th>\n",
              "      <td>2</td>\n",
              "      <td>489194</td>\n",
              "      <td>B002N2R7WM</td>\n",
              "      <td>A1CHGDG3NUDA5R</td>\n",
              "      <td>C. Seggelin \"Plastered Dragon\"</td>\n",
              "      <td>0</td>\n",
              "      <td>0</td>\n",
              "      <td>1</td>\n",
              "      <td>1350086400</td>\n",
              "      <td>Tasteless Fat For Your Popcorn!  Just Use Butter.</td>\n",
              "      <td>Y'know, you'd think with the words \"Buttery Fl...</td>\n",
              "      <td>0</td>\n",
              "      <td>know think word buttery flavor product name pr...</td>\n",
              "    </tr>\n",
              "    <tr>\n",
              "      <th>3</th>\n",
              "      <td>3</td>\n",
              "      <td>65205</td>\n",
              "      <td>B001D0GV5O</td>\n",
              "      <td>A3GIKK6DQEKEQK</td>\n",
              "      <td>CHERYL A. CATANZANO</td>\n",
              "      <td>0</td>\n",
              "      <td>0</td>\n",
              "      <td>1</td>\n",
              "      <td>1296777600</td>\n",
              "      <td>Very bland</td>\n",
              "      <td>I bought this tea because I like Timothy's Cof...</td>\n",
              "      <td>0</td>\n",
              "      <td>bought tea like timothy coffee product figured...</td>\n",
              "    </tr>\n",
              "    <tr>\n",
              "      <th>4</th>\n",
              "      <td>4</td>\n",
              "      <td>526585</td>\n",
              "      <td>B007PA30TG</td>\n",
              "      <td>A2XQSJG8YR6ED2</td>\n",
              "      <td>Cecilia f.</td>\n",
              "      <td>0</td>\n",
              "      <td>0</td>\n",
              "      <td>5</td>\n",
              "      <td>1303084800</td>\n",
              "      <td>great brew</td>\n",
              "      <td>i've been using these k-cups for months now.  ...</td>\n",
              "      <td>1</td>\n",
              "      <td>using k cup month breakfast blend perfect peop...</td>\n",
              "    </tr>\n",
              "    <tr>\n",
              "      <th>...</th>\n",
              "      <td>...</td>\n",
              "      <td>...</td>\n",
              "      <td>...</td>\n",
              "      <td>...</td>\n",
              "      <td>...</td>\n",
              "      <td>...</td>\n",
              "      <td>...</td>\n",
              "      <td>...</td>\n",
              "      <td>...</td>\n",
              "      <td>...</td>\n",
              "      <td>...</td>\n",
              "      <td>...</td>\n",
              "      <td>...</td>\n",
              "    </tr>\n",
              "    <tr>\n",
              "      <th>113686</th>\n",
              "      <td>113686</td>\n",
              "      <td>16241</td>\n",
              "      <td>B007TJGZ54</td>\n",
              "      <td>A1PLASEQUSPDPM</td>\n",
              "      <td>Chris</td>\n",
              "      <td>0</td>\n",
              "      <td>0</td>\n",
              "      <td>5</td>\n",
              "      <td>1339718400</td>\n",
              "      <td>Price is Right</td>\n",
              "      <td>Love the Green Mountain Coffee; tastes great i...</td>\n",
              "      <td>1</td>\n",
              "      <td>love green mountain coffee taste great keurig ...</td>\n",
              "    </tr>\n",
              "    <tr>\n",
              "      <th>113687</th>\n",
              "      <td>113687</td>\n",
              "      <td>511398</td>\n",
              "      <td>B001E6J07I</td>\n",
              "      <td>A233H2J16V56W8</td>\n",
              "      <td>Claxon,Bill</td>\n",
              "      <td>0</td>\n",
              "      <td>0</td>\n",
              "      <td>5</td>\n",
              "      <td>1237507200</td>\n",
              "      <td>Tasty Carrs cracker</td>\n",
              "      <td>A super glamourized cheez-it without the trans...</td>\n",
              "      <td>1</td>\n",
              "      <td>super glamourized cheez without trans fat chol...</td>\n",
              "    </tr>\n",
              "    <tr>\n",
              "      <th>113688</th>\n",
              "      <td>113688</td>\n",
              "      <td>211139</td>\n",
              "      <td>B000X67P2C</td>\n",
              "      <td>A3G0H0GKJ0722I</td>\n",
              "      <td>C. Smith</td>\n",
              "      <td>10</td>\n",
              "      <td>13</td>\n",
              "      <td>1</td>\n",
              "      <td>1277164800</td>\n",
              "      <td>Did not like...</td>\n",
              "      <td>I had heard so many good things about using th...</td>\n",
              "      <td>0</td>\n",
              "      <td>heard many good thing using place wheat white ...</td>\n",
              "    </tr>\n",
              "    <tr>\n",
              "      <th>113689</th>\n",
              "      <td>113689</td>\n",
              "      <td>520860</td>\n",
              "      <td>B0009XSXZM</td>\n",
              "      <td>A3FTHCRY3EZNA7</td>\n",
              "      <td>categ3893</td>\n",
              "      <td>1</td>\n",
              "      <td>1</td>\n",
              "      <td>5</td>\n",
              "      <td>1333843200</td>\n",
              "      <td>8 month Golden Retriever is OBSESSED.</td>\n",
              "      <td>My adolescent golden retriever just loves thes...</td>\n",
              "      <td>1</td>\n",
              "      <td>adolescent golden retriever love soon see hold...</td>\n",
              "    </tr>\n",
              "    <tr>\n",
              "      <th>113690</th>\n",
              "      <td>113690</td>\n",
              "      <td>190700</td>\n",
              "      <td>B000FI4O90</td>\n",
              "      <td>A2XNFT83MTV6AN</td>\n",
              "      <td>Randy Corder \"RC\"</td>\n",
              "      <td>0</td>\n",
              "      <td>0</td>\n",
              "      <td>4</td>\n",
              "      <td>1231286400</td>\n",
              "      <td>Aerogarden</td>\n",
              "      <td>Great product so far. The seeds are germinatin...</td>\n",
              "      <td>1</td>\n",
              "      <td>great product far seed germinating promised ea...</td>\n",
              "    </tr>\n",
              "  </tbody>\n",
              "</table>\n",
              "<p>113678 rows × 13 columns</p>\n",
              "</div>\n",
              "      <button class=\"colab-df-convert\" onclick=\"convertToInteractive('df-c0709e75-ec0a-4422-a4d6-f229f8f488aa')\"\n",
              "              title=\"Convert this dataframe to an interactive table.\"\n",
              "              style=\"display:none;\">\n",
              "        \n",
              "  <svg xmlns=\"http://www.w3.org/2000/svg\" height=\"24px\"viewBox=\"0 0 24 24\"\n",
              "       width=\"24px\">\n",
              "    <path d=\"M0 0h24v24H0V0z\" fill=\"none\"/>\n",
              "    <path d=\"M18.56 5.44l.94 2.06.94-2.06 2.06-.94-2.06-.94-.94-2.06-.94 2.06-2.06.94zm-11 1L8.5 8.5l.94-2.06 2.06-.94-2.06-.94L8.5 2.5l-.94 2.06-2.06.94zm10 10l.94 2.06.94-2.06 2.06-.94-2.06-.94-.94-2.06-.94 2.06-2.06.94z\"/><path d=\"M17.41 7.96l-1.37-1.37c-.4-.4-.92-.59-1.43-.59-.52 0-1.04.2-1.43.59L10.3 9.45l-7.72 7.72c-.78.78-.78 2.05 0 2.83L4 21.41c.39.39.9.59 1.41.59.51 0 1.02-.2 1.41-.59l7.78-7.78 2.81-2.81c.8-.78.8-2.07 0-2.86zM5.41 20L4 18.59l7.72-7.72 1.47 1.35L5.41 20z\"/>\n",
              "  </svg>\n",
              "      </button>\n",
              "      \n",
              "  <style>\n",
              "    .colab-df-container {\n",
              "      display:flex;\n",
              "      flex-wrap:wrap;\n",
              "      gap: 12px;\n",
              "    }\n",
              "\n",
              "    .colab-df-convert {\n",
              "      background-color: #E8F0FE;\n",
              "      border: none;\n",
              "      border-radius: 50%;\n",
              "      cursor: pointer;\n",
              "      display: none;\n",
              "      fill: #1967D2;\n",
              "      height: 32px;\n",
              "      padding: 0 0 0 0;\n",
              "      width: 32px;\n",
              "    }\n",
              "\n",
              "    .colab-df-convert:hover {\n",
              "      background-color: #E2EBFA;\n",
              "      box-shadow: 0px 1px 2px rgba(60, 64, 67, 0.3), 0px 1px 3px 1px rgba(60, 64, 67, 0.15);\n",
              "      fill: #174EA6;\n",
              "    }\n",
              "\n",
              "    [theme=dark] .colab-df-convert {\n",
              "      background-color: #3B4455;\n",
              "      fill: #D2E3FC;\n",
              "    }\n",
              "\n",
              "    [theme=dark] .colab-df-convert:hover {\n",
              "      background-color: #434B5C;\n",
              "      box-shadow: 0px 1px 3px 1px rgba(0, 0, 0, 0.15);\n",
              "      filter: drop-shadow(0px 1px 2px rgba(0, 0, 0, 0.3));\n",
              "      fill: #FFFFFF;\n",
              "    }\n",
              "  </style>\n",
              "\n",
              "      <script>\n",
              "        const buttonEl =\n",
              "          document.querySelector('#df-c0709e75-ec0a-4422-a4d6-f229f8f488aa button.colab-df-convert');\n",
              "        buttonEl.style.display =\n",
              "          google.colab.kernel.accessAllowed ? 'block' : 'none';\n",
              "\n",
              "        async function convertToInteractive(key) {\n",
              "          const element = document.querySelector('#df-c0709e75-ec0a-4422-a4d6-f229f8f488aa');\n",
              "          const dataTable =\n",
              "            await google.colab.kernel.invokeFunction('convertToInteractive',\n",
              "                                                     [key], {});\n",
              "          if (!dataTable) return;\n",
              "\n",
              "          const docLinkHtml = 'Like what you see? Visit the ' +\n",
              "            '<a target=\"_blank\" href=https://colab.research.google.com/notebooks/data_table.ipynb>data table notebook</a>'\n",
              "            + ' to learn more about interactive tables.';\n",
              "          element.innerHTML = '';\n",
              "          dataTable['output_type'] = 'display_data';\n",
              "          await google.colab.output.renderOutput(dataTable, element);\n",
              "          const docLink = document.createElement('div');\n",
              "          docLink.innerHTML = docLinkHtml;\n",
              "          element.appendChild(docLink);\n",
              "        }\n",
              "      </script>\n",
              "    </div>\n",
              "  </div>\n",
              "  "
            ]
          },
          "metadata": {},
          "execution_count": 8
        }
      ]
    },
    {
      "cell_type": "code",
      "source": [
        "from sklearn.model_selection import train_test_split"
      ],
      "metadata": {
        "id": "BM6iU9xxJEAE"
      },
      "execution_count": null,
      "outputs": []
    },
    {
      "cell_type": "code",
      "source": [
        "train, test = train_test_split(df)"
      ],
      "metadata": {
        "id": "CKkF5D-AJybT"
      },
      "execution_count": null,
      "outputs": []
    },
    {
      "cell_type": "code",
      "source": [
        "from sklearn.dummy import DummyClassifier"
      ],
      "metadata": {
        "id": "WxIDnG7jKKRS"
      },
      "execution_count": null,
      "outputs": []
    },
    {
      "cell_type": "code",
      "source": [
        "baseline = DummyClassifier(strategy=\"most_frequent\")"
      ],
      "metadata": {
        "id": "zFN6NKHAKKlP"
      },
      "execution_count": null,
      "outputs": []
    },
    {
      "cell_type": "code",
      "source": [
        "baseline.fit(train.drop('sentiment', axis=1), train['sentiment'])"
      ],
      "metadata": {
        "colab": {
          "base_uri": "https://localhost:8080/",
          "height": 75
        },
        "id": "bNRfpubbKhs1",
        "outputId": "6a37363b-9ac0-419e-a039-94cc04a5d0bc"
      },
      "execution_count": null,
      "outputs": [
        {
          "output_type": "execute_result",
          "data": {
            "text/plain": [
              "DummyClassifier(strategy='most_frequent')"
            ],
            "text/html": [
              "<style>#sk-container-id-1 {color: black;background-color: white;}#sk-container-id-1 pre{padding: 0;}#sk-container-id-1 div.sk-toggleable {background-color: white;}#sk-container-id-1 label.sk-toggleable__label {cursor: pointer;display: block;width: 100%;margin-bottom: 0;padding: 0.3em;box-sizing: border-box;text-align: center;}#sk-container-id-1 label.sk-toggleable__label-arrow:before {content: \"▸\";float: left;margin-right: 0.25em;color: #696969;}#sk-container-id-1 label.sk-toggleable__label-arrow:hover:before {color: black;}#sk-container-id-1 div.sk-estimator:hover label.sk-toggleable__label-arrow:before {color: black;}#sk-container-id-1 div.sk-toggleable__content {max-height: 0;max-width: 0;overflow: hidden;text-align: left;background-color: #f0f8ff;}#sk-container-id-1 div.sk-toggleable__content pre {margin: 0.2em;color: black;border-radius: 0.25em;background-color: #f0f8ff;}#sk-container-id-1 input.sk-toggleable__control:checked~div.sk-toggleable__content {max-height: 200px;max-width: 100%;overflow: auto;}#sk-container-id-1 input.sk-toggleable__control:checked~label.sk-toggleable__label-arrow:before {content: \"▾\";}#sk-container-id-1 div.sk-estimator input.sk-toggleable__control:checked~label.sk-toggleable__label {background-color: #d4ebff;}#sk-container-id-1 div.sk-label input.sk-toggleable__control:checked~label.sk-toggleable__label {background-color: #d4ebff;}#sk-container-id-1 input.sk-hidden--visually {border: 0;clip: rect(1px 1px 1px 1px);clip: rect(1px, 1px, 1px, 1px);height: 1px;margin: -1px;overflow: hidden;padding: 0;position: absolute;width: 1px;}#sk-container-id-1 div.sk-estimator {font-family: monospace;background-color: #f0f8ff;border: 1px dotted black;border-radius: 0.25em;box-sizing: border-box;margin-bottom: 0.5em;}#sk-container-id-1 div.sk-estimator:hover {background-color: #d4ebff;}#sk-container-id-1 div.sk-parallel-item::after {content: \"\";width: 100%;border-bottom: 1px solid gray;flex-grow: 1;}#sk-container-id-1 div.sk-label:hover label.sk-toggleable__label {background-color: #d4ebff;}#sk-container-id-1 div.sk-serial::before {content: \"\";position: absolute;border-left: 1px solid gray;box-sizing: border-box;top: 0;bottom: 0;left: 50%;z-index: 0;}#sk-container-id-1 div.sk-serial {display: flex;flex-direction: column;align-items: center;background-color: white;padding-right: 0.2em;padding-left: 0.2em;position: relative;}#sk-container-id-1 div.sk-item {position: relative;z-index: 1;}#sk-container-id-1 div.sk-parallel {display: flex;align-items: stretch;justify-content: center;background-color: white;position: relative;}#sk-container-id-1 div.sk-item::before, #sk-container-id-1 div.sk-parallel-item::before {content: \"\";position: absolute;border-left: 1px solid gray;box-sizing: border-box;top: 0;bottom: 0;left: 50%;z-index: -1;}#sk-container-id-1 div.sk-parallel-item {display: flex;flex-direction: column;z-index: 1;position: relative;background-color: white;}#sk-container-id-1 div.sk-parallel-item:first-child::after {align-self: flex-end;width: 50%;}#sk-container-id-1 div.sk-parallel-item:last-child::after {align-self: flex-start;width: 50%;}#sk-container-id-1 div.sk-parallel-item:only-child::after {width: 0;}#sk-container-id-1 div.sk-dashed-wrapped {border: 1px dashed gray;margin: 0 0.4em 0.5em 0.4em;box-sizing: border-box;padding-bottom: 0.4em;background-color: white;}#sk-container-id-1 div.sk-label label {font-family: monospace;font-weight: bold;display: inline-block;line-height: 1.2em;}#sk-container-id-1 div.sk-label-container {text-align: center;}#sk-container-id-1 div.sk-container {/* jupyter's `normalize.less` sets `[hidden] { display: none; }` but bootstrap.min.css set `[hidden] { display: none !important; }` so we also need the `!important` here to be able to override the default hidden behavior on the sphinx rendered scikit-learn.org. See: https://github.com/scikit-learn/scikit-learn/issues/21755 */display: inline-block !important;position: relative;}#sk-container-id-1 div.sk-text-repr-fallback {display: none;}</style><div id=\"sk-container-id-1\" class=\"sk-top-container\"><div class=\"sk-text-repr-fallback\"><pre>DummyClassifier(strategy=&#x27;most_frequent&#x27;)</pre><b>In a Jupyter environment, please rerun this cell to show the HTML representation or trust the notebook. <br />On GitHub, the HTML representation is unable to render, please try loading this page with nbviewer.org.</b></div><div class=\"sk-container\" hidden><div class=\"sk-item\"><div class=\"sk-estimator sk-toggleable\"><input class=\"sk-toggleable__control sk-hidden--visually\" id=\"sk-estimator-id-1\" type=\"checkbox\" checked><label for=\"sk-estimator-id-1\" class=\"sk-toggleable__label sk-toggleable__label-arrow\">DummyClassifier</label><div class=\"sk-toggleable__content\"><pre>DummyClassifier(strategy=&#x27;most_frequent&#x27;)</pre></div></div></div></div></div>"
            ]
          },
          "metadata": {},
          "execution_count": 13
        }
      ]
    },
    {
      "cell_type": "code",
      "source": [
        "from sklearn.metrics import accuracy_score, f1_score, log_loss\n",
        "\n"
      ],
      "metadata": {
        "id": "wUFJhwaqKvXq"
      },
      "execution_count": null,
      "outputs": []
    },
    {
      "cell_type": "code",
      "source": [
        "baseline_predictions = baseline.predict(test.drop('sentiment', axis=1))\n",
        "baseline_accuracy = accuracy_score(test['sentiment'], baseline_predictions)\n",
        "baseline_accuracy"
      ],
      "metadata": {
        "colab": {
          "base_uri": "https://localhost:8080/"
        },
        "id": "KdKPgH4SK2OJ",
        "outputId": "3fcc13d1-a077-449f-a57f-714978449bc9"
      },
      "execution_count": null,
      "outputs": [
        {
          "output_type": "execute_result",
          "data": {
            "text/plain": [
              "0.7792751583391977"
            ]
          },
          "metadata": {},
          "execution_count": 15
        }
      ]
    },
    {
      "cell_type": "code",
      "source": [
        "baseline_f1score = f1_score(test['sentiment'], baseline_predictions)\n",
        "baseline_f1score"
      ],
      "metadata": {
        "colab": {
          "base_uri": "https://localhost:8080/"
        },
        "id": "l-1Jq4EVLfyk",
        "outputId": "7ee4a9fc-8410-45bc-825e-ea8e6222e549"
      },
      "execution_count": null,
      "outputs": [
        {
          "output_type": "execute_result",
          "data": {
            "text/plain": [
              "0.875946763699646"
            ]
          },
          "metadata": {},
          "execution_count": 16
        }
      ]
    },
    {
      "cell_type": "code",
      "source": [
        "def get_metrics(predictions, actual):\n",
        "  accuracy = accuracy_score(actual, predictions)\n",
        "  f1 = f1_score(actual, predictions)\n",
        "  cross_entropy = log_loss(actual, predictions)\n",
        "  print(f\"Accuracy: {accuracy:.2f}\")\n",
        "  print(f\"F1 Score: {f1:.2f}\")\n",
        "  print(f\"Cross-Entropy: {cross_entropy:.2f}\")"
      ],
      "metadata": {
        "id": "xNLmW18oLnqi"
      },
      "execution_count": null,
      "outputs": []
    },
    {
      "cell_type": "code",
      "source": [
        "print(\"-- Baseline metrics --\")\n",
        "get_metrics(baseline_predictions, test['sentiment'])"
      ],
      "metadata": {
        "colab": {
          "base_uri": "https://localhost:8080/"
        },
        "id": "bKZ_jYzTL6y1",
        "outputId": "e3a73b4c-9f5f-4b06-9225-6b724898eeeb"
      },
      "execution_count": null,
      "outputs": [
        {
          "output_type": "stream",
          "name": "stdout",
          "text": [
            "-- Baseline metrics --\n",
            "Accuracy: 0.78\n",
            "F1 Score: 0.88\n",
            "Cross-Entropy: 7.96\n"
          ]
        }
      ]
    },
    {
      "cell_type": "code",
      "source": [
        "def shift_negative_data(test_data):\n",
        "  negative_data = test_data[test_data['sentiment'] == 0]\n",
        "  negative_count = len(negative_data)\n",
        "  positive_data = test_data[test_data['sentiment'] == 1]\n",
        "  positive_sample = positive_data.sample(n=negative_count)\n",
        "  return positive_sample.append(negative_data)"
      ],
      "metadata": {
        "id": "FiRBPAiKMegL"
      },
      "execution_count": null,
      "outputs": []
    },
    {
      "cell_type": "code",
      "source": [
        "print(\"Original data:\")\n",
        "print(test['sentiment'].describe())\n",
        "print(\"Shifted data:\")\n",
        "shifted_negative_test = shift_negative_data(test)\n",
        "print(shifted_negative_test['sentiment'].describe())"
      ],
      "metadata": {
        "colab": {
          "base_uri": "https://localhost:8080/"
        },
        "id": "OkRcLsoFN_uK",
        "outputId": "04f31c5d-a936-41e2-f350-8ce64dbe207d"
      },
      "execution_count": null,
      "outputs": [
        {
          "output_type": "stream",
          "name": "stdout",
          "text": [
            "Original data:\n",
            "count    28420.000000\n",
            "mean         0.779275\n",
            "std          0.414743\n",
            "min          0.000000\n",
            "25%          1.000000\n",
            "50%          1.000000\n",
            "75%          1.000000\n",
            "max          1.000000\n",
            "Name: sentiment, dtype: float64\n",
            "Shifted data:\n",
            "count    12546.00000\n",
            "mean         0.50000\n",
            "std          0.50002\n",
            "min          0.00000\n",
            "25%          0.00000\n",
            "50%          0.50000\n",
            "75%          1.00000\n",
            "max          1.00000\n",
            "Name: sentiment, dtype: float64\n"
          ]
        },
        {
          "output_type": "stream",
          "name": "stderr",
          "text": [
            "<ipython-input-19-4a862ef7d6af>:6: FutureWarning: The frame.append method is deprecated and will be removed from pandas in a future version. Use pandas.concat instead.\n",
            "  return positive_sample.append(negative_data)\n"
          ]
        }
      ]
    },
    {
      "cell_type": "code",
      "source": [
        "baseline_predictions_shifted = baseline.predict(shifted_negative_test.drop('sentiment', axis=1))\n",
        "print(\"-- Baseline metrics --\")\n",
        "get_metrics(baseline_predictions_shifted, shifted_negative_test['sentiment'])"
      ],
      "metadata": {
        "colab": {
          "base_uri": "https://localhost:8080/"
        },
        "id": "m5do7IgNODdT",
        "outputId": "f44ce8a7-1bb9-4445-f4d0-c36c91609143"
      },
      "execution_count": null,
      "outputs": [
        {
          "output_type": "stream",
          "name": "stdout",
          "text": [
            "-- Baseline metrics --\n",
            "Accuracy: 0.50\n",
            "F1 Score: 0.67\n",
            "Cross-Entropy: 18.02\n"
          ]
        }
      ]
    },
    {
      "cell_type": "code",
      "source": [
        "# https://towardsdatascience.com/the-secret-to-improved-nlp-an-in-depth-look-at-the-nn-embedding-layer-in-pytorch-6e901e193e16\n",
        "# ^ Embedding text"
      ],
      "metadata": {
        "id": "K38SLM0YO2U-"
      },
      "execution_count": null,
      "outputs": []
    }
  ]
}